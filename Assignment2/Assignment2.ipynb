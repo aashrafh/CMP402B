{
 "cells": [
  {
   "cell_type": "markdown",
   "metadata": {},
   "source": [
    "#### Problem 2.24\n",
    "##### Consider a simplified learning scenario. Assume that the input dimension is one. Assume that the input variable $x$ is uniformly distributed in the interval $[−1,1]$. The data set consists of 2 points $\\{x_1, x_2\\}$ and assume that the target function is $f(x) = x^2$. Thus, the full data set is $D = \\{(x_1, x_1^2), (x_2, x_2^2)\\}$. The learning algorithm returns the line fitting these two points as $g(H$ consists of functions of the form $h(x) = ax + b)$. We are interested in the test performance $(E_{out})$ of our learning system with respect to the squared error measure, the bias and the var.\n",
    "\n",
    "##### (a) Give the analytic expression of the average function $\\bar{g}(x)$."
   ]
  },
  {
   "cell_type": "markdown",
   "metadata": {},
   "source": [
    "* Considering $g^D(x) = ax_i + b$, we need to find $a$ and $b$\n",
    "\n",
    "* We have $E_{in}(g) = \\sum_{i=1}^{2}[x_i^2 - (ax_i + b)]^2$\n",
    "\n",
    "* Derivative w.r.t $a$, $\\frac{\\partial E_{in}(g)}{\\partial a} = -2\\sum_{i=1}^{2}x_i(x_i^2 - ax_i - b) = x_1(x_1^2 - ax_1 - b) + x_2(x_2^2 - ax_2 - b) = 0$\n",
    "\n",
    "* Derivative w.r.t $b$, $\\frac{\\partial E_{in}(g)}{\\partial b} = -2\\sum_{i=1}^{2}(x_i^2 - ax_i - b) = (x_1^2 - ax_1 - b) + (x_2^2 - ax_2 - b) = 0$\n",
    "\n",
    "* Multiply the second derivative by $x_1$ and subtract from first derivative, we get $x_2^2 - ax_2 - b = 0$\n",
    "\n",
    "* Multiply the second derivative by $x_2$ and subtract from first derivative, we get $x_1^2 - ax_1 - b = 0$\n",
    "\n",
    "* To get $a$, substitution by $b = x_2^2 - ax_2$ yeilds:\n",
    "\n",
    "    $x_1^2 - ax_1 - x_2^2 - ax_2 = 0$\n",
    "    \n",
    "    $x_1^2 - x_2^2 - a(x_1 - x_2) = 0$\n",
    "\n",
    "    $(x_1 - x_2)(x_1 + x_2) - a(x_1 - x_2) = 0$\n",
    "\n",
    "    $(x_1 - x_2)[(x_1 + x_2) - a] = 0$\n",
    "\n",
    "    $a = x_1 + x_2$\n",
    "\n",
    "* Substitute by $a = x_1 + x_2$ to get $b$: \n",
    "\n",
    "    $x_2^2 - (x_1 + x_2)x_2 - b = 0$\n",
    "\n",
    "    $x_2(x_2 - x_1 - x_2) = b$\n",
    "\n",
    "    $b = -x_1x_2$\n",
    "\n",
    "* Now, we have $g^D(x) = (x_1 + x_2)x_i - x_1x_2$\n",
    "\n",
    "* To get the average function, $\\bar{g}(x) = E_D[g^D(x)] = E_D[(x_1 + x_2)x_i - x_1x_2] = \\int_{-1}^1{\\int_{-1}^1{(x_1 + x_2) dx_1dx_2}}.x_i - \\int_{-1}^1{\\int_{-1}^1{(x_1x_2) dx_1dx_2}} = 0 - 0 = 0$ "
   ]
  },
  {
   "cell_type": "markdown",
   "metadata": {},
   "source": [
    "##### (b) Describe an experiment that you could run to determine (numerically) $\\bar{g}(x)$, $E_{out}$, bias and var."
   ]
  },
  {
   "cell_type": "code",
   "execution_count": 71,
   "metadata": {},
   "outputs": [],
   "source": [
    "import numpy as np\n",
    "import matplotlib.pyplot as plt\n",
    "\n",
    "\n",
    "f = lambda x: x**2\n",
    "\n",
    "def g(x1, x2, x):\n",
    "    return (x1 + x2) * x + (-1 * x1 * x2)\n",
    "\n",
    "def get_sample_x():\n",
    "    return np.random.uniform(-1, 1, 1)[0]\n",
    "\n",
    "def g_bar(x, samples):\n",
    "    gs = [g(get_sample_x(), get_sample_x(), x) for _ in range(samples)]\n",
    "    avg_g = np.mean(gs)\n",
    "    return avg_g, np.var(gs), (avg_g - f(x))**2\n",
    "\n",
    "def expirement(samples):\n",
    "    fs = []\n",
    "    gs = []\n",
    "    var = []\n",
    "    bias = []\n",
    "    eout = []\n",
    "    xs = np.linspace(-1, 1, samples)\n",
    "\n",
    "    for x in xs:\n",
    "        g_avg, g_var, g_bias = g_bar(x, samples)\n",
    "        es = [(g(get_sample_x(), get_sample_x(), x) - f(x))**2 for _ in range(samples)]\n",
    "        e_avg = np.mean(es)\n",
    "\n",
    "        fs.append(f(x))\n",
    "        gs.append(g_avg)\n",
    "        var.append(g_var)\n",
    "        bias.append(g_bias)\n",
    "        eout.append(e_avg)\n",
    "\n",
    "    return xs, fs, gs, np.mean(var), np.mean(bias), np.mean(eout)"
   ]
  },
  {
   "cell_type": "markdown",
   "metadata": {},
   "source": [
    "##### (c) Run your experiment and report the results. Compare $E_{out}$ with bias + var. Provide a plot of your $\\bar{g}(x)$ and $f(x)$ (on the same plot)."
   ]
  },
  {
   "cell_type": "code",
   "execution_count": 72,
   "metadata": {},
   "outputs": [
    {
     "name": "stdout",
     "output_type": "stream",
     "text": [
      "Eout:  0.5333415268501912\n",
      "Bias:  0.200488797593963\n",
      "Variance:  0.3332548404557915\n",
      "Bias + Variance:  0.5337436380497544\n"
     ]
    },
    {
     "data": {
      "text/plain": [
       "<matplotlib.legend.Legend at 0x7f7e731b0940>"
      ]
     },
     "execution_count": 72,
     "metadata": {},
     "output_type": "execute_result"
    },
    {
     "data": {
      "image/png": "[encoded data removed]",
      "text/plain": [
       "<Figure size 432x288 with 1 Axes>"
      ]
     },
     "metadata": {
      "needs_background": "light"
     },
     "output_type": "display_data"
    }
   ],
   "source": [
    "xs, fs, gs, avg_var, avg_bias, avg_eout = expirement(1000)\n",
    "\n",
    "print('Eout: ', avg_eout)\n",
    "print('Bias: ', avg_bias)\n",
    "print('Variance: ', avg_var)\n",
    "print('Bias + Variance: ', avg_var+avg_bias)\n",
    "\n",
    "plt.plot(xs, fs, color='red', label='Target Function')\n",
    "plt.plot(xs, gs, color='green', label='Average Function')    \n",
    "plt.legend(['Target Function', 'Average Function'])"
   ]
  },
  {
   "cell_type": "markdown",
   "metadata": {},
   "source": [
    "We can see that the value of Bias + Varias is very close to the out-of-sample error $E_{out}$"
   ]
  },
  {
   "cell_type": "markdown",
   "metadata": {},
   "source": [
    "#### Exercise 3.7\n",
    "\n",
    "##### For logistic regression, show that $$\\Delta{E_{in}(w)} = -\\frac{1}{N}\\sum_{n=1}^N{\\frac{y_nx_n}{1+e^{y_nw^Tx_n}}} = \\frac{1}{N}\\sum_{n=1}^N{-y_nx_n\\theta{(-y_nw^Tx_n)}}$$"
   ]
  },
  {
   "cell_type": "markdown",
   "metadata": {},
   "source": [
    "* We have $E_in(w) = \\frac{1}{N}\\sum_{n=1}^N{\\ln{(1+e^{-y_nw^Tx_n}})}$\n",
    "\n",
    "* So, $\\Delta{E_in(w)} = -\\frac{1}{N}\\sum_{n=1}^N{\\frac{y_nx_ne^{-y_nw^Tx_n}}{1+e^{-y_nw^Tx_n}}}$\n",
    "\n",
    "* Multiply the denominator and numerator by $e^{y_nw^Tx_n}$: $\\Delta{E_in(w)} = -\\frac{1}{N}\\sum_{n=1}^N{\\frac{y_nx_n}{1+e^{y_nw^Tx_n}}}$\n",
    "\n",
    "* We have $\\theta{(s)} = \\frac{e^{s}}{1+e^{s}}$\n",
    "\n",
    "* So, $\\theta{(-y_nw^Tx_n)} = \\frac{e^{-y_nw^Tx_n}}{1+e^{-y_nw^Tx_n}}$\n",
    "\n",
    "* Then, $\\Delta{E_{in}(w)} = -\\frac{1}{N}\\sum_{n=1}^N{\\frac{y_nx_n}{1+e^{y_nw^Tx_n}}} = \\frac{1}{N}\\sum_{n=1}^N{-y_nx_n\\theta{(-y_nw^Tx_n)}}$\n",
    "\n",
    "##### Argue that a ‘misclassified’ example contributes more to the gradient than a correctly classified one.\n",
    "\n",
    "* The $\\theta$ function has a reversed effect on the gradient becuase it depends on $-y_nw^Tx_n$\n",
    "\n",
    "* The misclassified example will have a $y_nw^Tx_n < 0$ which means $\\theta{-y_nw^Tx_n} > 0.5$\n",
    "\n",
    "* While the correctly classified example will have $y_nw^Tx_n > 0$ which means $\\theta{-y_nw^Tx_n} < 0.5$\n",
    "\n",
    "* So, a ‘misclassified’ example contributes more to the gradient than a correctly classified one"
   ]
  },
  {
   "cell_type": "markdown",
   "metadata": {},
   "source": [
    "#### Problem 3.12\n",
    "##### In linear regression, the in-sample predictions are given by $\\hat{y} = Hy$, where $H = X(X^TX)^{-1}X^T$. Show that $H$ is a projection matrix, i.e., $H^2 = H$. So $\\hat{y}$ is the projection of $y$ onto some space. What is this space?"
   ]
  },
  {
   "cell_type": "markdown",
   "metadata": {},
   "source": [
    "* $H^2 = X(X^TX)^{-1}X^TX(X^TX)^{-1}X^T = X(X^TX)^{-1}X^T = H$\n",
    "\n",
    "* We have $\\hat{y} = X[(X^TX)^{-1}X^Ty]$\n",
    "\n",
    "* So, $\\hat{y}$ is the projection of $y$ onto the space generated by the columns of $X$"
   ]
  }
 ],
 "metadata": {
  "interpreter": {
   "hash": "1be8e5e88a5ba6f711c48e428d0cd4203bdeba5665265ad4bb85ea11f0c7c1d2"
  },
  "kernelspec": {
   "display_name": "Python 3.9.12 ('dev')",
   "language": "python",
   "name": "python3"
  },
  "language_info": {
   "codemirror_mode": {
    "name": "ipython",
    "version": 3
   },
   "file_extension": ".py",
   "mimetype": "text/x-python",
   "name": "python",
   "nbconvert_exporter": "python",
   "pygments_lexer": "ipython3",
   "version": "3.9.12"
  },
  "orig_nbformat": 4
 },
 "nbformat": 4,
 "nbformat_minor": 2
}
