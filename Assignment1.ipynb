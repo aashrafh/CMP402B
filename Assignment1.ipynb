{
 "cells": [
  {
   "cell_type": "code",
   "execution_count": 53,
   "metadata": {},
   "outputs": [],
   "source": [
    "import numpy as np\n",
    "import matplotlib.pyplot as plt\n"
   ]
  },
  {
   "cell_type": "markdown",
   "metadata": {},
   "source": [
    "## Exercise 1.10\n",
    "\n",
    "Here is an experiment that illustrates the difference between a single bin and multiple bins. Run a computer simulation for flipping 1,000 fair coins. Flip each coin independently 10 times. Let’s focus on 3 coins as follows: c<sub>1</sub> is that first coin flipped; c<sub>rand</sub> is a coin you choose at random; c<sub>min</sub> is the coin that had the minimum frequency of heads (pick the earlier one in case of a tie). Let ν<sub>1</sub>, ν<sub>rand</sub> and ν<sub>min</sub> be the fraction of heads you obtain for the respective three coins."
   ]
  },
  {
   "cell_type": "markdown",
   "metadata": {},
   "source": [
    "### (a) What is mu for the three coins selected?\n",
    "Assuming a fair coin, P(heads) = P(tails) = 0.5. Then, for c<sub>1</sub>, c<sub>rand</sub>, c<sub>min</sub>, mu = 0.5 regardless of the outcomes of the flips."
   ]
  },
  {
   "cell_type": "code",
   "execution_count": 45,
   "metadata": {},
   "outputs": [],
   "source": [
    "def experiment(number_of_coins, number_of_flips):\n",
    "    heads = np.zeros(number_of_coins)\n",
    "    for _ in range(number_of_flips):\n",
    "        p = np.random.uniform(size=number_of_coins)\n",
    "        heads[p > 0.5] += 1\n",
    "    \n",
    "    random_coin =  np.random.choice(number_of_coins)\n",
    "    minimum_coin = np.argmin(heads)\n",
    "    heads /= number_of_flips\n",
    "\n",
    "    v1 = heads[0]\n",
    "    vrand = heads[random_coin]\n",
    "    vmin = heads[minimum_coin]\n",
    "\n",
    "    return v1, vrand, vmin"
   ]
  },
  {
   "cell_type": "markdown",
   "metadata": {},
   "source": [
    "### (b) Repeat the entire experiment a large number of times (e.g., 100,000 runs of the entire experiment) to get several instances of ν<sub>1</sub>, ν<sub>rand</sub>, and ν<sub>min</sub> and plot the histograms of the distributions of ν<sub>1</sub>, ν<sub>rand</sub>, and ν<sub>min</sub>. Notice that which coins end up being c<sub>rand</sub>, and c<sub>min</sub> may differ from one run to another."
   ]
  },
  {
   "cell_type": "code",
   "execution_count": 82,
   "metadata": {},
   "outputs": [
    {
     "name": "stdout",
     "output_type": "stream",
     "text": [
      "v1=  0.4\n",
      "vrand=  0.2\n",
      "vmin=  0.0\n"
     ]
    }
   ],
   "source": [
    "number_of_coins = 1000\n",
    "number_of_flips = 10\n",
    "number_of_runs = 100000\n",
    "\n",
    "def print_fractions(v1, vrand, vmin):\n",
    "    print(\"v1= \", v1)\n",
    "    print(\"vrand= \", vrand)\n",
    "    print(\"vmin= \", vmin)\n",
    "\n",
    "v1, vrand, vmin = experiment(number_of_coins, number_of_flips)\n",
    "print_fractions(v1, vrand, vmin)\n",
    "\n",
    "v1s, vrands, vmins = [], [], []\n",
    "# v1s, vrands, vmins = np.array([]), np.array([]), np.array([])\n",
    "for _ in range(number_of_runs):\n",
    "    v1, vrand, vmin = experiment(number_of_coins, number_of_flips)\n",
    "    # np.append(v1s, v1)\n",
    "    # np.append(vrands, vrand)\n",
    "    # np.append(vmins, vmin)\n",
    "    v1s.append(v1)\n",
    "    vrands.append(vrand)\n",
    "    vmins.append(vmin)\n"
   ]
  },
  {
   "cell_type": "code",
   "execution_count": 83,
   "metadata": {},
   "outputs": [
    {
     "data": {
      "image/png": "[encoded data removed]",
      "text/plain": [
       "<Figure size 432x288 with 3 Axes>"
      ]
     },
     "metadata": {
      "needs_background": "light"
     },
     "output_type": "display_data"
    }
   ],
   "source": [
    "def plot_fractions_hist(v1s, vrands, vmins):\n",
    "    n_bins = 10\n",
    "    _, axs = plt.subplots(1, 3, sharey=True, tight_layout=True)\n",
    "    \n",
    "    axs[0].hist(v1s,bins=n_bins)\n",
    "    axs[0].set_title(\"v1\")\n",
    "\n",
    "    axs[1].hist(vrands,bins=n_bins)\n",
    "    axs[1].set_title(\"vrands\")\n",
    "\n",
    "    axs[2].hist(vmins,bins=n_bins)\n",
    "    axs[2].set_title(\"vmins\")\n",
    "\n",
    "plot_fractions_hist(v1s, vrands, vmins)"
   ]
  },
  {
   "cell_type": "markdown",
   "metadata": {},
   "source": [
    "### (c) Using (b), plot estimates of ℙ[|𝜈 − 𝜇| > 𝜖] as a function of ϵ, together with the Hoeffding bound 2𝑒 −2𝜖 2𝑁 (on the same graph)."
   ]
  },
  {
   "cell_type": "code",
   "execution_count": 84,
   "metadata": {},
   "outputs": [],
   "source": [
    "def hoeffding(eps, N):\n",
    "    return 2 * np.exp(-2 * (eps**2) * N)"
   ]
  },
  {
   "cell_type": "code",
   "execution_count": 85,
   "metadata": {},
   "outputs": [],
   "source": [
    "mu = 0.5\n",
    "eps = np.linspace(0, 5, 100) / number_of_flips\n",
    "v1s_diff, vrands_diff, vmins_diff = np.abs(np.array(v1s) - mu), np.abs(np.array(vrands) - mu), np.abs(np.array(vmins) - mu)\n",
    "p1, prand, pmin = [], [], []\n",
    "\n",
    "for i in range(eps.shape[0]):\n",
    "    eps_i = eps[i]\n",
    "    p1.append(np.sum(v1s_diff > eps_i) / number_of_runs)\n",
    "    prand.append(np.sum(vrands_diff > eps_i) / number_of_runs)\n",
    "    pmin.append(np.sum(vmins_diff > eps_i) / number_of_runs)\n",
    "\n",
    "hoeffding_bounds = hoeffding(eps, number_of_flips)"
   ]
  },
  {
   "cell_type": "code",
   "execution_count": 102,
   "metadata": {},
   "outputs": [
    {
     "data": {
      "text/plain": [
       "<matplotlib.legend.Legend at 0x7f9bda3ecfd0>"
      ]
     },
     "execution_count": 102,
     "metadata": {},
     "output_type": "execute_result"
    },
    {
     "data": {
      "image/png": "[encoded data removed]",
      "text/plain": [
       "<Figure size 432x288 with 1 Axes>"
      ]
     },
     "metadata": {
      "needs_background": "light"
     },
     "output_type": "display_data"
    }
   ],
   "source": [
    "plt.plot(eps, hoeffding_bounds, color='skyblue', label='Hoeffding')\n",
    "plt.plot(eps, p1, color='r', label='c1')\n",
    "plt.plot(eps, prand, color='g', label='crand', linewidth=6, linestyle= \"--\")\n",
    "plt.plot(eps, pmin, color='y', label='cmin')\n",
    "plt.legend()"
   ]
  },
  {
   "cell_type": "markdown",
   "metadata": {},
   "source": [
    "### (d) Which coins obey the Hoeffding bound, which ones do not? Explain why.\n",
    "The c1  and  crand coins obey the Hoeffding inequality, but cmin does not. That's because cmin was chosen during the experiments runs based on the sample results which violates the Hoeffding's conditions stating that the hypothesis has been chosen before experiments runs."
   ]
  },
  {
   "cell_type": "markdown",
   "metadata": {},
   "source": [
    "### Relate part (d) to the multiple bins in Figure 1.\n"
   ]
  }
 ],
 "metadata": {
  "interpreter": {
   "hash": "1be8e5e88a5ba6f711c48e428d0cd4203bdeba5665265ad4bb85ea11f0c7c1d2"
  },
  "kernelspec": {
   "display_name": "Python 3.8.12 ('dev')",
   "language": "python",
   "name": "python3"
  },
  "language_info": {
   "codemirror_mode": {
    "name": "ipython",
    "version": 3
   },
   "file_extension": ".py",
   "mimetype": "text/x-python",
   "name": "python",
   "nbconvert_exporter": "python",
   "pygments_lexer": "ipython3",
   "version": "3.8.12"
  },
  "orig_nbformat": 4
 },
 "nbformat": 4,
 "nbformat_minor": 2
}
